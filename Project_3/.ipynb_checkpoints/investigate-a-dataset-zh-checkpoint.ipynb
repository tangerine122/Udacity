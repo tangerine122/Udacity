{
 "cells": [
  {
   "cell_type": "markdown",
   "metadata": {},
   "source": [
    "# 巴西预约挂号求诊信息的探究\n",
    "\n",
    "## 目录\n",
    "<ul>\n",
    "<li><a href=\"#intro\">简介</a></li>\n",
    "<li><a href=\"#wrangling\">数据整理</a></li>\n",
    "<li><a href=\"#eda\">探索性数据分析</a></li>\n",
    "<li><a href=\"#conclusions\">结论</a></li>\n",
    "</ul>\n",
    "\n",
    "<a id='intro'></a>\n",
    "## 简介\n",
    "\n",
    "本数据集包含10万条巴西预约挂号的求诊信息，研究病人是否如约前往医院就诊。每行数据录入了有关患者特点的多个数值，包括 “预约日期 (ScheduledDay)”指患者具体预约就诊的日期；“街区 (Neighborhood) ”指医院所在位置；“福利保障 (Scholarship)”说明病人是否是巴西福利项目 Bolsa Família 的保障人群；请注意最后一列内容的编码：“No”表示病人已如约就诊，“Yes”说明病人未前往就诊。\n",
    "\n",
    "本次分析我们想探究这样几个问题：\n",
    "- 患者的年龄大小是否会影响就诊率的变化？  \n",
    "- 病人拥有福利保障是否会提高就诊率？\n",
    "- 不同疾病的年龄分布情况"
   ]
  },
  {
   "cell_type": "code",
   "execution_count": 3,
   "metadata": {},
   "outputs": [],
   "source": [
    "# 导入模块\n",
    "import numpy as np\n",
    "import pandas as pd\n",
    "import matplotlib.pyplot as plt\n",
    "import seaborn as sns\n",
    "%matplotlib inline"
   ]
  },
  {
   "cell_type": "code",
   "execution_count": 4,
   "metadata": {},
   "outputs": [],
   "source": [
    "# 配置matplotlib图表中文字体\n",
    "import matplotlib.font_manager as fm\n",
    "myFont = fm.FontProperties(fname='C:\\Windows\\Fonts\\simhei.ttf', size=20)"
   ]
  },
  {
   "cell_type": "markdown",
   "metadata": {},
   "source": [
    "<a id='wrangling'></a>\n",
    "## 数据整理\n",
    "\n",
    "在数据分析之前，为了方便调用和处理，我们先简单对数据进行整理，如：查看属性、去重、处理空值、修改类型等工作。\n",
    "\n",
    "### 常规属性"
   ]
  },
  {
   "cell_type": "code",
   "execution_count": 5,
   "metadata": {},
   "outputs": [],
   "source": [
    "# 加载数据\n",
    "df = pd.read_csv('noshowappointments-kagglev2-may-2016.csv')"
   ]
  },
  {
   "cell_type": "code",
   "execution_count": 6,
   "metadata": {
    "scrolled": true
   },
   "outputs": [
    {
     "name": "stdout",
     "output_type": "stream",
     "text": [
      "<class 'pandas.core.frame.DataFrame'>\n",
      "RangeIndex: 110527 entries, 0 to 110526\n",
      "Data columns (total 14 columns):\n",
      "PatientId         110527 non-null float64\n",
      "AppointmentID     110527 non-null int64\n",
      "Gender            110527 non-null object\n",
      "ScheduledDay      110527 non-null object\n",
      "AppointmentDay    110527 non-null object\n",
      "Age               110527 non-null int64\n",
      "Neighbourhood     110527 non-null object\n",
      "Scholarship       110527 non-null int64\n",
      "Hipertension      110527 non-null int64\n",
      "Diabetes          110527 non-null int64\n",
      "Alcoholism        110527 non-null int64\n",
      "Handcap           110527 non-null int64\n",
      "SMS_received      110527 non-null int64\n",
      "No-show           110527 non-null object\n",
      "dtypes: float64(1), int64(8), object(5)\n",
      "memory usage: 11.8+ MB\n"
     ]
    }
   ],
   "source": [
    "# 查看数据信息，包含每列的数据类型以及是否有缺失数据的情况\n",
    "df.info()"
   ]
  },
  {
   "cell_type": "code",
   "execution_count": 7,
   "metadata": {},
   "outputs": [
    {
     "data": {
      "text/html": [
       "<div>\n",
       "<style scoped>\n",
       "    .dataframe tbody tr th:only-of-type {\n",
       "        vertical-align: middle;\n",
       "    }\n",
       "\n",
       "    .dataframe tbody tr th {\n",
       "        vertical-align: top;\n",
       "    }\n",
       "\n",
       "    .dataframe thead th {\n",
       "        text-align: right;\n",
       "    }\n",
       "</style>\n",
       "<table border=\"1\" class=\"dataframe\">\n",
       "  <thead>\n",
       "    <tr style=\"text-align: right;\">\n",
       "      <th></th>\n",
       "      <th>PatientId</th>\n",
       "      <th>AppointmentID</th>\n",
       "      <th>Gender</th>\n",
       "      <th>ScheduledDay</th>\n",
       "      <th>AppointmentDay</th>\n",
       "      <th>Age</th>\n",
       "      <th>Neighbourhood</th>\n",
       "      <th>Scholarship</th>\n",
       "      <th>Hipertension</th>\n",
       "      <th>Diabetes</th>\n",
       "      <th>Alcoholism</th>\n",
       "      <th>Handcap</th>\n",
       "      <th>SMS_received</th>\n",
       "      <th>No-show</th>\n",
       "    </tr>\n",
       "  </thead>\n",
       "  <tbody>\n",
       "    <tr>\n",
       "      <th>0</th>\n",
       "      <td>2.987250e+13</td>\n",
       "      <td>5642903</td>\n",
       "      <td>F</td>\n",
       "      <td>2016-04-29T18:38:08Z</td>\n",
       "      <td>2016-04-29T00:00:00Z</td>\n",
       "      <td>62</td>\n",
       "      <td>JARDIM DA PENHA</td>\n",
       "      <td>0</td>\n",
       "      <td>1</td>\n",
       "      <td>0</td>\n",
       "      <td>0</td>\n",
       "      <td>0</td>\n",
       "      <td>0</td>\n",
       "      <td>No</td>\n",
       "    </tr>\n",
       "    <tr>\n",
       "      <th>1</th>\n",
       "      <td>5.589978e+14</td>\n",
       "      <td>5642503</td>\n",
       "      <td>M</td>\n",
       "      <td>2016-04-29T16:08:27Z</td>\n",
       "      <td>2016-04-29T00:00:00Z</td>\n",
       "      <td>56</td>\n",
       "      <td>JARDIM DA PENHA</td>\n",
       "      <td>0</td>\n",
       "      <td>0</td>\n",
       "      <td>0</td>\n",
       "      <td>0</td>\n",
       "      <td>0</td>\n",
       "      <td>0</td>\n",
       "      <td>No</td>\n",
       "    </tr>\n",
       "    <tr>\n",
       "      <th>2</th>\n",
       "      <td>4.262962e+12</td>\n",
       "      <td>5642549</td>\n",
       "      <td>F</td>\n",
       "      <td>2016-04-29T16:19:04Z</td>\n",
       "      <td>2016-04-29T00:00:00Z</td>\n",
       "      <td>62</td>\n",
       "      <td>MATA DA PRAIA</td>\n",
       "      <td>0</td>\n",
       "      <td>0</td>\n",
       "      <td>0</td>\n",
       "      <td>0</td>\n",
       "      <td>0</td>\n",
       "      <td>0</td>\n",
       "      <td>No</td>\n",
       "    </tr>\n",
       "    <tr>\n",
       "      <th>3</th>\n",
       "      <td>8.679512e+11</td>\n",
       "      <td>5642828</td>\n",
       "      <td>F</td>\n",
       "      <td>2016-04-29T17:29:31Z</td>\n",
       "      <td>2016-04-29T00:00:00Z</td>\n",
       "      <td>8</td>\n",
       "      <td>PONTAL DE CAMBURI</td>\n",
       "      <td>0</td>\n",
       "      <td>0</td>\n",
       "      <td>0</td>\n",
       "      <td>0</td>\n",
       "      <td>0</td>\n",
       "      <td>0</td>\n",
       "      <td>No</td>\n",
       "    </tr>\n",
       "    <tr>\n",
       "      <th>4</th>\n",
       "      <td>8.841186e+12</td>\n",
       "      <td>5642494</td>\n",
       "      <td>F</td>\n",
       "      <td>2016-04-29T16:07:23Z</td>\n",
       "      <td>2016-04-29T00:00:00Z</td>\n",
       "      <td>56</td>\n",
       "      <td>JARDIM DA PENHA</td>\n",
       "      <td>0</td>\n",
       "      <td>1</td>\n",
       "      <td>1</td>\n",
       "      <td>0</td>\n",
       "      <td>0</td>\n",
       "      <td>0</td>\n",
       "      <td>No</td>\n",
       "    </tr>\n",
       "  </tbody>\n",
       "</table>\n",
       "</div>"
      ],
      "text/plain": [
       "      PatientId  AppointmentID Gender          ScheduledDay  \\\n",
       "0  2.987250e+13        5642903      F  2016-04-29T18:38:08Z   \n",
       "1  5.589978e+14        5642503      M  2016-04-29T16:08:27Z   \n",
       "2  4.262962e+12        5642549      F  2016-04-29T16:19:04Z   \n",
       "3  8.679512e+11        5642828      F  2016-04-29T17:29:31Z   \n",
       "4  8.841186e+12        5642494      F  2016-04-29T16:07:23Z   \n",
       "\n",
       "         AppointmentDay  Age      Neighbourhood  Scholarship  Hipertension  \\\n",
       "0  2016-04-29T00:00:00Z   62    JARDIM DA PENHA            0             1   \n",
       "1  2016-04-29T00:00:00Z   56    JARDIM DA PENHA            0             0   \n",
       "2  2016-04-29T00:00:00Z   62      MATA DA PRAIA            0             0   \n",
       "3  2016-04-29T00:00:00Z    8  PONTAL DE CAMBURI            0             0   \n",
       "4  2016-04-29T00:00:00Z   56    JARDIM DA PENHA            0             1   \n",
       "\n",
       "   Diabetes  Alcoholism  Handcap  SMS_received No-show  \n",
       "0         0           0        0             0      No  \n",
       "1         0           0        0             0      No  \n",
       "2         0           0        0             0      No  \n",
       "3         0           0        0             0      No  \n",
       "4         1           0        0             0      No  "
      ]
     },
     "execution_count": 7,
     "metadata": {},
     "output_type": "execute_result"
    }
   ],
   "source": [
    "# 打印前5行数据\n",
    "df.head()"
   ]
  },
  {
   "cell_type": "markdown",
   "metadata": {},
   "source": [
    "| 列名           | 非空数量 | 数据类型 | 含义                      |\n",
    "| -------------- | -------- | -------- | ------------------------- |\n",
    "| PatientId      | 110527   | float64  | 默认id                    |\n",
    "| AppointmentID  | 110527   | int64    | 预约卡id                  |\n",
    "| Gender         | 110527   | object   | 性别                      |\n",
    "| ScheduledDay   | 110527   | object   | 预约时间                  |\n",
    "| AppointmentDay | 110527   | object   | 预约卡办理时间            |\n",
    "| Age            | 110527   | int64    | 年龄                      |\n",
    "| Neighbourhood  | 110527   | object   | 所属街区                  |\n",
    "| Scholarship    | 110527   | int64    | 福利保障(1)               |\n",
    "| Hipertension   | 110527   | int64    | 高血压(1)                 |\n",
    "| Diabetes       | 110527   | int64    | 糖尿病(1)                 |\n",
    "| Alcoholism     | 110527   | int64    | 酗酒(1)                   |\n",
    "| Handcap        | 110527   | int64    | 残障(1)                   |\n",
    "| SMS_received   | 110527   | int64    | 收到短信(1)               |\n",
    "| No-show        | 110527   | object   | 未就诊标记(Yes表示未就诊) |\n"
   ]
  },
  {
   "cell_type": "markdown",
   "metadata": {},
   "source": [
    "### 数据清理"
   ]
  },
  {
   "cell_type": "markdown",
   "metadata": {},
   "source": [
    "首先对数据集中的空值和冗余数据进行处理"
   ]
  },
  {
   "cell_type": "code",
   "execution_count": 8,
   "metadata": {},
   "outputs": [
    {
     "data": {
      "text/plain": [
       "PatientId         0\n",
       "AppointmentID     0\n",
       "Gender            0\n",
       "ScheduledDay      0\n",
       "AppointmentDay    0\n",
       "Age               0\n",
       "Neighbourhood     0\n",
       "Scholarship       0\n",
       "Hipertension      0\n",
       "Diabetes          0\n",
       "Alcoholism        0\n",
       "Handcap           0\n",
       "SMS_received      0\n",
       "No-show           0\n",
       "dtype: int64"
      ]
     },
     "execution_count": 8,
     "metadata": {},
     "output_type": "execute_result"
    }
   ],
   "source": [
    "# 查询空值数量\n",
    "df.isnull().sum()"
   ]
  },
  {
   "cell_type": "code",
   "execution_count": 9,
   "metadata": {},
   "outputs": [
    {
     "data": {
      "text/plain": [
       "0"
      ]
     },
     "execution_count": 9,
     "metadata": {},
     "output_type": "execute_result"
    }
   ],
   "source": [
    "# 查询冗余行\n",
    "sum(df.duplicated())"
   ]
  },
  {
   "cell_type": "markdown",
   "metadata": {},
   "source": [
    "> 通过上面的命令，该数据集没有空值和冗余行，故无需进行空值和冗余处理操作"
   ]
  },
  {
   "cell_type": "markdown",
   "metadata": {},
   "source": [
    "观察发现该数据集中的列名不是很统一，并且首字母大写，不便于后期的处理和分析，故现在将对列名进行处理"
   ]
  },
  {
   "cell_type": "code",
   "execution_count": 10,
   "metadata": {},
   "outputs": [],
   "source": [
    "# 修改列名\n",
    "# 将所有大写变小写\n",
    "# 并将‘No-show’列中的‘-’改为‘_’\n",
    "df.rename(columns=lambda x:x.strip().lower().replace(\"-\", \"_\"), inplace=True)"
   ]
  },
  {
   "cell_type": "code",
   "execution_count": 11,
   "metadata": {},
   "outputs": [
    {
     "data": {
      "text/html": [
       "<div>\n",
       "<style scoped>\n",
       "    .dataframe tbody tr th:only-of-type {\n",
       "        vertical-align: middle;\n",
       "    }\n",
       "\n",
       "    .dataframe tbody tr th {\n",
       "        vertical-align: top;\n",
       "    }\n",
       "\n",
       "    .dataframe thead th {\n",
       "        text-align: right;\n",
       "    }\n",
       "</style>\n",
       "<table border=\"1\" class=\"dataframe\">\n",
       "  <thead>\n",
       "    <tr style=\"text-align: right;\">\n",
       "      <th></th>\n",
       "      <th>patientid</th>\n",
       "      <th>appointmentid</th>\n",
       "      <th>gender</th>\n",
       "      <th>scheduledday</th>\n",
       "      <th>appointmentday</th>\n",
       "      <th>age</th>\n",
       "      <th>neighbourhood</th>\n",
       "      <th>scholarship</th>\n",
       "      <th>hipertension</th>\n",
       "      <th>diabetes</th>\n",
       "      <th>alcoholism</th>\n",
       "      <th>handcap</th>\n",
       "      <th>sms_received</th>\n",
       "      <th>no_show</th>\n",
       "    </tr>\n",
       "  </thead>\n",
       "  <tbody>\n",
       "    <tr>\n",
       "      <th>0</th>\n",
       "      <td>2.987250e+13</td>\n",
       "      <td>5642903</td>\n",
       "      <td>F</td>\n",
       "      <td>2016-04-29T18:38:08Z</td>\n",
       "      <td>2016-04-29T00:00:00Z</td>\n",
       "      <td>62</td>\n",
       "      <td>JARDIM DA PENHA</td>\n",
       "      <td>0</td>\n",
       "      <td>1</td>\n",
       "      <td>0</td>\n",
       "      <td>0</td>\n",
       "      <td>0</td>\n",
       "      <td>0</td>\n",
       "      <td>No</td>\n",
       "    </tr>\n",
       "  </tbody>\n",
       "</table>\n",
       "</div>"
      ],
      "text/plain": [
       "      patientid  appointmentid gender          scheduledday  \\\n",
       "0  2.987250e+13        5642903      F  2016-04-29T18:38:08Z   \n",
       "\n",
       "         appointmentday  age    neighbourhood  scholarship  hipertension  \\\n",
       "0  2016-04-29T00:00:00Z   62  JARDIM DA PENHA            0             1   \n",
       "\n",
       "   diabetes  alcoholism  handcap  sms_received no_show  \n",
       "0         0           0        0             0      No  "
      ]
     },
     "execution_count": 11,
     "metadata": {},
     "output_type": "execute_result"
    }
   ],
   "source": [
    "# 查看列名是否已修改\n",
    "df.head(1)"
   ]
  },
  {
   "cell_type": "markdown",
   "metadata": {},
   "source": [
    "接下来修正数据类型  \n",
    "> 将`scheduledday`和`appointmentday`改为日期类型\n"
   ]
  },
  {
   "cell_type": "code",
   "execution_count": 12,
   "metadata": {},
   "outputs": [],
   "source": [
    "# 修改数据类型\n",
    "df.scheduledday = pd.to_datetime(df.scheduledday)\n",
    "df.appointmentday = pd.to_datetime(df.appointmentday)"
   ]
  },
  {
   "cell_type": "code",
   "execution_count": 13,
   "metadata": {},
   "outputs": [
    {
     "name": "stdout",
     "output_type": "stream",
     "text": [
      "<class 'pandas.core.frame.DataFrame'>\n",
      "RangeIndex: 110527 entries, 0 to 110526\n",
      "Data columns (total 14 columns):\n",
      "patientid         110527 non-null float64\n",
      "appointmentid     110527 non-null int64\n",
      "gender            110527 non-null object\n",
      "scheduledday      110527 non-null datetime64[ns]\n",
      "appointmentday    110527 non-null datetime64[ns]\n",
      "age               110527 non-null int64\n",
      "neighbourhood     110527 non-null object\n",
      "scholarship       110527 non-null int64\n",
      "hipertension      110527 non-null int64\n",
      "diabetes          110527 non-null int64\n",
      "alcoholism        110527 non-null int64\n",
      "handcap           110527 non-null int64\n",
      "sms_received      110527 non-null int64\n",
      "no_show           110527 non-null object\n",
      "dtypes: datetime64[ns](2), float64(1), int64(8), object(3)\n",
      "memory usage: 11.8+ MB\n"
     ]
    }
   ],
   "source": [
    "# 查看数据类型是否改变\n",
    "df.info()"
   ]
  },
  {
   "cell_type": "markdown",
   "metadata": {},
   "source": [
    "为便于后期的数据分析，`no_show`一列的内容值为YES和NO，同样为便于后期的数据处理，将要对该列中的值进行修改"
   ]
  },
  {
   "cell_type": "code",
   "execution_count": 14,
   "metadata": {},
   "outputs": [],
   "source": [
    "# 修改`no_show`列，将YES改为1， NO改为0\n",
    "df.no_show = df.no_show.map({'No':0, 'Yes':1})"
   ]
  },
  {
   "cell_type": "code",
   "execution_count": 15,
   "metadata": {},
   "outputs": [
    {
     "data": {
      "text/plain": [
       "0    0\n",
       "1    0\n",
       "2    0\n",
       "3    0\n",
       "4    0\n",
       "Name: no_show, dtype: int64"
      ]
     },
     "execution_count": 15,
     "metadata": {},
     "output_type": "execute_result"
    }
   ],
   "source": [
    "# 查看修改情况\n",
    "df.head().no_show"
   ]
  },
  {
   "cell_type": "markdown",
   "metadata": {},
   "source": [
    "对于数据的清理工作基本已经完成，下面就对该数据集进行探索性分析。"
   ]
  },
  {
   "cell_type": "markdown",
   "metadata": {},
   "source": [
    "<a id='eda'></a>\n",
    "## 探索性数据分析\n",
    "\n",
    "\n",
    "### 年龄与就诊率的关系"
   ]
  },
  {
   "cell_type": "code",
   "execution_count": 16,
   "metadata": {},
   "outputs": [
    {
     "data": {
      "text/plain": [
       "array([ 62,  56,   8,  76,  23,  39,  21,  19,  30,  29,  22,  28,  54,\n",
       "        15,  50,  40,  46,   4,  13,  65,  45,  51,  32,  12,  61,  38,\n",
       "        79,  18,  63,  64,  85,  59,  55,  71,  49,  78,  31,  58,  27,\n",
       "         6,   2,  11,   7,   0,   3,   1,  69,  68,  60,  67,  36,  10,\n",
       "        35,  20,  26,  34,  33,  16,  42,   5,  47,  17,  41,  44,  37,\n",
       "        24,  66,  77,  81,  70,  53,  75,  73,  52,  74,  43,  89,  57,\n",
       "        14,   9,  48,  83,  72,  25,  80,  87,  88,  84,  82,  90,  94,\n",
       "        86,  91,  98,  92,  96,  93,  95,  97, 102, 115, 100,  99,  -1],\n",
       "      dtype=int64)"
      ]
     },
     "execution_count": 16,
     "metadata": {},
     "output_type": "execute_result"
    }
   ],
   "source": [
    "# 查看年龄的唯一值\n",
    "df.age.unique()"
   ]
  },
  {
   "cell_type": "markdown",
   "metadata": {},
   "source": [
    "> 观察发现在年龄中有一项“-1”的值，这并不符合常理(年龄不可能有负值)，不论该数据如何出现，为不影响整体分析，先将年龄为-1的所有行全部删除"
   ]
  },
  {
   "cell_type": "code",
   "execution_count": 17,
   "metadata": {},
   "outputs": [],
   "source": [
    "# 删除年龄为-1的行\n",
    "df.drop(df[df.age==-1].index, inplace=True)"
   ]
  },
  {
   "cell_type": "code",
   "execution_count": 18,
   "metadata": {},
   "outputs": [],
   "source": [
    "# 提取就诊的数据集\n",
    "df_0 = df[df.no_show==0]"
   ]
  },
  {
   "cell_type": "code",
   "execution_count": 81,
   "metadata": {},
   "outputs": [
    {
     "data": {
      "image/png": "[encoded data removed]",
      "text/plain": [
       "<Figure size 864x576 with 1 Axes>"
      ]
     },
     "metadata": {},
     "output_type": "display_data"
    }
   ],
   "source": [
    "plt.figure(figsize=(12, 8))\n",
    "x = df.groupby('age').no_show.count().index\n",
    "y = (df_0.groupby('age').no_show.count() / df.groupby('age').no_show.count()) * 100\n",
    "plt.title('患者年龄与就诊率关系图', fontproperties='SimHei', fontsize=20)\n",
    "plt.xlabel('年龄(岁)', fontproperties='SimHei',  fontsize=20)\n",
    "plt.ylabel('就诊率(%)', fontproperties='SimHei',  fontsize=20)\n",
    "plt.scatter(x, y, label='就诊率', color='c');"
   ]
  },
  {
   "cell_type": "markdown",
   "metadata": {},
   "source": [
    "通过上图可见，随着患者年龄的增大，就诊率确有所提高，但变化并不明显，不能直接得出患者年龄与之有关的结论。"
   ]
  },
  {
   "cell_type": "markdown",
   "metadata": {},
   "source": [
    "### 福利保障与就诊率关系的探究"
   ]
  },
  {
   "cell_type": "code",
   "execution_count": 20,
   "metadata": {},
   "outputs": [],
   "source": [
    "# 无福利保障的数据集\n",
    "df_no_scholarship = df[df.scholarship==0]"
   ]
  },
  {
   "cell_type": "code",
   "execution_count": 21,
   "metadata": {},
   "outputs": [],
   "source": [
    "# 有福利保障的数据集\n",
    "df_yes_scholarship = df[df.scholarship==1]"
   ]
  },
  {
   "cell_type": "code",
   "execution_count": 22,
   "metadata": {},
   "outputs": [
    {
     "name": "stdout",
     "output_type": "stream",
     "text": [
      "0.7626369579228433\n"
     ]
    }
   ],
   "source": [
    "# 有福利保障的就诊率\n",
    "show_num_1 = df_yes_scholarship[df_yes_scholarship.no_show==0].no_show.count()\n",
    "show_count_1 = df_yes_scholarship.no_show.count()\n",
    "visiting_rate_1 = show_num_1 / show_count_1\n",
    "print(visiting_rate_1)"
   ]
  },
  {
   "cell_type": "code",
   "execution_count": 120,
   "metadata": {},
   "outputs": [
    {
     "data": {
      "image/png": "[encoded data removed]",
      "text/plain": [
       "<Figure size 1152x576 with 2 Axes>"
      ]
     },
     "metadata": {},
     "output_type": "display_data"
    }
   ],
   "source": [
    "# 绘图\n",
    "plt.figure(figsize=(16,8))\n",
    "plt.rcParams['font.sans-serif'] = ['SimHei']\n",
    "plt.subplot(121)\n",
    "plt.title('参与福利保障',  fontproperties='SimHei', fontsize=20)\n",
    "labels = ['已就诊','未就诊']\n",
    "sizes_1 = df_yes_scholarship.groupby('no_show').size()\n",
    "explode = (0, 0.1)\n",
    "plt.pie(sizes_1, explode=explode, labels=labels, autopct='%.1f%%',shadow=False,startangle=90)\n",
    "plt.axis('equal')\n",
    "\n",
    "\n",
    "plt.subplot(122)\n",
    "plt.title('未参与福利保障',  fontproperties='SimHei', fontsize=20)\n",
    "sizes_0 = df_no_scholarship.groupby('no_show').size()\n",
    "plt.pie(sizes_0, explode=explode, labels=labels, autopct='%.1f%%',shadow=False,startangle=90)\n",
    "plt.axis('equal');"
   ]
  },
  {
   "cell_type": "markdown",
   "metadata": {},
   "source": [
    "根据统计，参与福利保障计划并没有像想象中提高就诊率，两者相差甚微，甚至参与福利保障计划的就诊率还低于没有参与福利保障计划的患者。"
   ]
  },
  {
   "cell_type": "markdown",
   "metadata": {},
   "source": [
    "### 不同疾病的年龄分布情况的探究"
   ]
  },
  {
   "cell_type": "code",
   "execution_count": 137,
   "metadata": {},
   "outputs": [
    {
     "data": {
      "text/plain": [
       "<matplotlib.legend.Legend at 0x18f53e77ef0>"
      ]
     },
     "execution_count": 137,
     "metadata": {},
     "output_type": "execute_result"
    },
    {
     "data": {
      "image/png": "[encoded data removed]",
      "text/plain": [
       "<Figure size 1152x360 with 3 Axes>"
      ]
     },
     "metadata": {},
     "output_type": "display_data"
    }
   ],
   "source": [
    "plt.figure(figsize=(16,5))\n",
    "plt.suptitle('不同疾病的年龄分布情况',  fontproperties='SimHei', fontsize=20)\n",
    "plt.subplot(131)\n",
    "plt.title('高血压', fontproperties='SimHei', fontsize=12)\n",
    "plt.hist(df[df['hipertension']==1]['age'])\n",
    "plt.xlabel('年龄(岁)', fontproperties='SimHei',  fontsize=12)\n",
    "plt.ylabel('患病(人)', fontproperties='SimHei',  fontsize=12)\n",
    "plt.legend('Hipertension')\n",
    "plt.subplot(132)\n",
    "plt.title('糖尿病', fontproperties='SimHei', fontsize=12)\n",
    "plt.hist(df[df['diabetes']==1]['age'],color='g')\n",
    "plt.xlabel('年龄(岁)', fontproperties='SimHei',  fontsize=12)\n",
    "plt.ylabel('患病(人)', fontproperties='SimHei',  fontsize=12)\n",
    "plt.legend('Diabetes')\n",
    "plt.subplot(133)\n",
    "plt.title('酗酒', fontproperties='SimHei', fontsize=12)\n",
    "plt.hist(df[df['alcoholism']==1]['age'],color='r')\n",
    "plt.xlabel('年龄(岁)', fontproperties='SimHei',  fontsize=12)\n",
    "plt.ylabel('患病(人)', fontproperties='SimHei',  fontsize=12)\n",
    "plt.legend('Alcoholism')"
   ]
  },
  {
   "cell_type": "markdown",
   "metadata": {},
   "source": [
    "从上图可以观察，高血压、糖尿病和酗酒的高发年龄段大约在40-70岁之间\n",
    "> 高血压的高发年龄段大约在45-70岁之间  \n",
    "> 糖尿病的高发年龄段大约在50-70岁之间  \n",
    "> 年龄段大约在40-65岁之间的人酗酒人数较多"
   ]
  },
  {
   "cell_type": "markdown",
   "metadata": {},
   "source": [
    "<a id='conclusions'></a>\n",
    "## 结论\n",
    "\n",
    "\n",
    "本次分析仅仅对各数据集的相关性问题进行探究，并不与其因果性有关，若要证明因果关系，还需提供更加可信的直接或间接关系的数据并进行细致分析。  \n",
    "1. 在探究年龄大小与就诊率的关系中，可以看出两者呈弱相关性，如果数据集足够大，足够多，也许会得到意想不到的结果。但这就需要大数据采样与分析，显然本次探究无法完成此项任务。  \n",
    "2. 在探究参与福利保障是否影响就诊率的问题中，仅能证明福利保障与就诊率的负相关性，因其可能受到其他因素的影响，同样也不能得出因果关系。  \n",
    "3. 最后探究不同疾病年龄分布情况中，可以大致观察出高血压、糖尿病和酗酒的高发年龄段大约在40-70岁之间，但不代表到了一定年龄段发生疾病的概率就会增加。  \n",
    "\n",
    "\n",
    "对于本数据集还有很多列可供仔细分析，但限于个人才疏学浅，没有对更深层的问题进行探讨。学无止境，我相信本次分析仅仅是一个开始，本人的数据分析道路远走越走越远。在这里感谢助教老师的指导，以及同业同学的帮助。同时感谢评阅本报告的审阅老师，如在报告中出现技术疏漏望老师指正。"
   ]
  },
  {
   "cell_type": "code",
   "execution_count": null,
   "metadata": {},
   "outputs": [],
   "source": [
    "from subprocess import call\n",
    "call(['python', '-m', 'nbconvert', 'Investigate_a_Dataset.ipynb'])"
   ]
  }
 ],
 "metadata": {
  "kernelspec": {
   "display_name": "Python 3",
   "language": "python",
   "name": "python3"
  },
  "language_info": {
   "codemirror_mode": {
    "name": "ipython",
    "version": 3
   },
   "file_extension": ".py",
   "mimetype": "text/x-python",
   "name": "python",
   "nbconvert_exporter": "python",
   "pygments_lexer": "ipython3",
   "version": "3.6.5"
  },
  "toc": {
   "base_numbering": 1,
   "nav_menu": {},
   "number_sections": true,
   "sideBar": true,
   "skip_h1_title": false,
   "title_cell": "Table of Contents",
   "title_sidebar": "Contents",
   "toc_cell": false,
   "toc_position": {},
   "toc_section_display": true,
   "toc_window_display": false
  }
 },
 "nbformat": 4,
 "nbformat_minor": 2
}
